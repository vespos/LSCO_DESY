{
 "cells": [
  {
   "cell_type": "code",
   "execution_count": 1,
   "metadata": {},
   "outputs": [
    {
     "data": {
      "text/plain": [
       "<module 'lsco_ana' from 'C:\\\\Users\\\\espov\\\\Documents\\\\Science_projects\\\\LSCO\\\\DESY\\\\lsco_ana.py'>"
      ]
     },
     "execution_count": 1,
     "metadata": {},
     "output_type": "execute_result"
    }
   ],
   "source": [
    "import sys\n",
    "import numpy as np\n",
    "import pandas as pd\n",
    "import matplotlib.pyplot as plt\n",
    "from pathlib import Path\n",
    "import h5py as h5\n",
    "import hdf5plugin\n",
    "\n",
    "from scipy.integrate import trapz\n",
    "from scipy.optimize import curve_fit\n",
    "from scipy import ndimage\n",
    "\n",
    "from importlib import reload\n",
    "\n",
    "# sys.path.append('/reg/neh/home/espov/python/scikit-beam')\n",
    "import skbeam.core.correlation as corr\n",
    "\n",
    "import lsco_ana as lsco\n",
    "reload(ana)"
   ]
  },
  {
   "cell_type": "code",
   "execution_count": 2,
   "metadata": {},
   "outputs": [],
   "source": [
    "plt.style.use('dark_background')\n",
    "#matplotlib.rcParams.keys()\n",
    "plt.rcParams['figure.figsize'] = (10, 6)\n",
    "plt.rc('font', size=12)\n",
    "length = 8\n",
    "width = 1.5\n",
    "plt.rcParams['xtick.major.size'] = length\n",
    "plt.rcParams['ytick.major.size'] = length\n",
    "plt.rcParams['xtick.major.width'] = width\n",
    "plt.rcParams['ytick.major.width'] = width"
   ]
  },
  {
   "cell_type": "code",
   "execution_count": 12,
   "metadata": {},
   "outputs": [
    {
     "data": {
      "text/plain": [
       "array([0, 1, 2, 3, 4, 5, 6])"
      ]
     },
     "execution_count": 12,
     "metadata": {},
     "output_type": "execute_result"
    }
   ],
   "source": [
    "a = np.array([1,4,2,5,6,1,1])\n",
    "w = np.arange(7)\n",
    "w"
   ]
  },
  {
   "cell_type": "code",
   "execution_count": 13,
   "metadata": {},
   "outputs": [
    {
     "data": {
      "text/plain": [
       "array([ 0., 11.,  2.,  0.,  1.,  3.,  4.])"
      ]
     },
     "execution_count": 13,
     "metadata": {},
     "output_type": "execute_result"
    }
   ],
   "source": [
    "np.bincount(a, weights=w)"
   ]
  },
  {
   "cell_type": "code",
   "execution_count": null,
   "metadata": {},
   "outputs": [],
   "source": []
  },
  {
   "cell_type": "code",
   "execution_count": null,
   "metadata": {},
   "outputs": [],
   "source": []
  },
  {
   "cell_type": "code",
   "execution_count": null,
   "metadata": {},
   "outputs": [],
   "source": []
  },
  {
   "cell_type": "code",
   "execution_count": null,
   "metadata": {},
   "outputs": [],
   "source": []
  },
  {
   "cell_type": "code",
   "execution_count": null,
   "metadata": {},
   "outputs": [],
   "source": []
  }
 ],
 "metadata": {
  "kernelspec": {
   "display_name": "Python 3",
   "language": "python",
   "name": "python3"
  },
  "language_info": {
   "codemirror_mode": {
    "name": "ipython",
    "version": 3
   },
   "file_extension": ".py",
   "mimetype": "text/x-python",
   "name": "python",
   "nbconvert_exporter": "python",
   "pygments_lexer": "ipython3",
   "version": "3.7.6"
  }
 },
 "nbformat": 4,
 "nbformat_minor": 4
}
